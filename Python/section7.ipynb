{
 "cells": [
  {
   "cell_type": "code",
   "execution_count": 1,
   "id": "db7f3890",
   "metadata": {},
   "outputs": [],
   "source": [
    "#Lesson 60"
   ]
  },
  {
   "cell_type": "code",
   "execution_count": 2,
   "id": "64bd984d",
   "metadata": {},
   "outputs": [
    {
     "name": "stdout",
     "output_type": "stream",
     "text": [
      "[1, 2, 3]\n"
     ]
    }
   ],
   "source": [
    "print([1,2,3])"
   ]
  },
  {
   "cell_type": "code",
   "execution_count": 3,
   "id": "2f7b1f72",
   "metadata": {},
   "outputs": [
    {
     "name": "stdout",
     "output_type": "stream",
     "text": [
      "[1, 2, 3]\n",
      "[4, 5, 6]\n",
      "[7, 8, 9]\n"
     ]
    }
   ],
   "source": [
    "print([1,2,3])\n",
    "print([4,5,6])\n",
    "print([7,8,9])"
   ]
  },
  {
   "cell_type": "code",
   "execution_count": 4,
   "id": "33e8b50d",
   "metadata": {},
   "outputs": [],
   "source": [
    "def display(row1,row2,row3):\n",
    "    print(row1)\n",
    "    print(row2)\n",
    "    print(row3)"
   ]
  },
  {
   "cell_type": "code",
   "execution_count": 5,
   "id": "8ce83ea7",
   "metadata": {},
   "outputs": [],
   "source": [
    "row1 = [' ',' ',' ']\n",
    "row2 = [' ',' ',' ']\n",
    "row3 = [' ',' ',' ']"
   ]
  },
  {
   "cell_type": "code",
   "execution_count": 6,
   "id": "91c4dea0",
   "metadata": {},
   "outputs": [
    {
     "name": "stdout",
     "output_type": "stream",
     "text": [
      "[' ', ' ', ' ']\n",
      "[' ', ' ', ' ']\n",
      "[' ', ' ', ' ']\n"
     ]
    }
   ],
   "source": [
    "display(row1,row2,row3)"
   ]
  },
  {
   "cell_type": "code",
   "execution_count": 7,
   "id": "1a134e36",
   "metadata": {},
   "outputs": [],
   "source": [
    "row2[1]='X'"
   ]
  },
  {
   "cell_type": "code",
   "execution_count": 8,
   "id": "a21c48c4",
   "metadata": {},
   "outputs": [
    {
     "name": "stdout",
     "output_type": "stream",
     "text": [
      "[' ', ' ', ' ']\n",
      "[' ', 'X', ' ']\n",
      "[' ', ' ', ' ']\n"
     ]
    }
   ],
   "source": [
    "display(row1,row2,row3)"
   ]
  },
  {
   "cell_type": "raw",
   "id": "f097949d",
   "metadata": {},
   "source": [
    "#Lesson 60\n",
    "\n",
    "\n",
    "input(\"Please enter a value:\")"
   ]
  },
  {
   "cell_type": "code",
   "execution_count": 9,
   "id": "9725ace0",
   "metadata": {},
   "outputs": [
    {
     "name": "stdout",
     "output_type": "stream",
     "text": [
      "Please enter a value: 1\n"
     ]
    }
   ],
   "source": [
    "result =input(\"Please enter a value: \")"
   ]
  },
  {
   "cell_type": "code",
   "execution_count": 10,
   "id": "23536f7f",
   "metadata": {},
   "outputs": [
    {
     "data": {
      "text/plain": [
       "str"
      ]
     },
     "execution_count": 10,
     "metadata": {},
     "output_type": "execute_result"
    }
   ],
   "source": [
    "type(result)"
   ]
  },
  {
   "cell_type": "code",
   "execution_count": 11,
   "id": "19065f4a",
   "metadata": {},
   "outputs": [],
   "source": [
    "result_int = int(result)"
   ]
  },
  {
   "cell_type": "code",
   "execution_count": 12,
   "id": "1a980ff1",
   "metadata": {},
   "outputs": [
    {
     "data": {
      "text/plain": [
       "int"
      ]
     },
     "execution_count": 12,
     "metadata": {},
     "output_type": "execute_result"
    }
   ],
   "source": [
    "type(result_int)"
   ]
  },
  {
   "cell_type": "code",
   "execution_count": 13,
   "id": "47ac2256",
   "metadata": {},
   "outputs": [
    {
     "name": "stdout",
     "output_type": "stream",
     "text": [
      "Choose an index position: 1\n"
     ]
    }
   ],
   "source": [
    "position_index = int(input(\"Choose an index position: \"))"
   ]
  },
  {
   "cell_type": "code",
   "execution_count": 14,
   "id": "ca0f57a3",
   "metadata": {},
   "outputs": [
    {
     "data": {
      "text/plain": [
       "'X'"
      ]
     },
     "execution_count": 14,
     "metadata": {},
     "output_type": "execute_result"
    }
   ],
   "source": [
    "row2[position_index]"
   ]
  },
  {
   "cell_type": "code",
   "execution_count": 15,
   "id": "9eefae85",
   "metadata": {},
   "outputs": [],
   "source": [
    "#Lesson 62"
   ]
  },
  {
   "cell_type": "code",
   "execution_count": 16,
   "id": "8ad386ea",
   "metadata": {},
   "outputs": [],
   "source": [
    "def user_choice():\n",
    "    \n",
    "    choice = 'WRONG'\n",
    "    while choice.isdigit() == False:\n",
    "        choice = input(\"Please input a number (0-10): \")\n",
    "        if choice.isdigit() == False:\n",
    "            print('Sorry that is not a digit')\n",
    "    \n",
    "    return int(choice)"
   ]
  },
  {
   "cell_type": "code",
   "execution_count": 17,
   "id": "5afa65bf",
   "metadata": {},
   "outputs": [
    {
     "name": "stdout",
     "output_type": "stream",
     "text": [
      "Please input a number (0-10): 1\n"
     ]
    },
    {
     "data": {
      "text/plain": [
       "1"
      ]
     },
     "execution_count": 17,
     "metadata": {},
     "output_type": "execute_result"
    }
   ],
   "source": [
    "user_choice()"
   ]
  },
  {
   "cell_type": "code",
   "execution_count": 18,
   "id": "faf32f35",
   "metadata": {},
   "outputs": [],
   "source": [
    "some_value = '100'"
   ]
  },
  {
   "cell_type": "code",
   "execution_count": 19,
   "id": "70a118b0",
   "metadata": {},
   "outputs": [
    {
     "data": {
      "text/plain": [
       "True"
      ]
     },
     "execution_count": 19,
     "metadata": {},
     "output_type": "execute_result"
    }
   ],
   "source": [
    "some_value.isdigit()  #Validate"
   ]
  },
  {
   "cell_type": "code",
   "execution_count": 20,
   "id": "e0b3f46b",
   "metadata": {},
   "outputs": [],
   "source": [
    "def user_choice():\n",
    "    \n",
    "    #Variables\n",
    "    \n",
    "    #Inital\n",
    "    choice = 'WRONG'\n",
    "    acceptable_range = range(0,11)\n",
    "    within_range = False\n",
    "    \n",
    "    #Two conditions to check\n",
    "    #Digit or within_range==False\n",
    "    while choice.isdigit() == False or within_range==False:\n",
    "        choice = input(\"Please input a number (0-10): \")\n",
    "        #Digit check\n",
    "        if choice.isdigit() == False:\n",
    "            print('Sorry that is not a digit')\n",
    "        #Range check\n",
    "        if choice.isdigit() == True:\n",
    "            if int(choice) in acceptable_range:\n",
    "                within_range = True\n",
    "            else:\n",
    "                within_range = False\n",
    "                print('Sorry the inserted number is not within the range (0-10)')\n",
    "    \n",
    "    return int(choice)"
   ]
  },
  {
   "cell_type": "code",
   "execution_count": 21,
   "id": "53fd5547",
   "metadata": {
    "scrolled": true
   },
   "outputs": [
    {
     "name": "stdout",
     "output_type": "stream",
     "text": [
      "Please input a number (0-10): 1\n"
     ]
    },
    {
     "data": {
      "text/plain": [
       "1"
      ]
     },
     "execution_count": 21,
     "metadata": {},
     "output_type": "execute_result"
    }
   ],
   "source": [
    "user_choice()"
   ]
  },
  {
   "cell_type": "code",
   "execution_count": 22,
   "id": "239c190b",
   "metadata": {},
   "outputs": [],
   "source": [
    "#Lesson 63"
   ]
  },
  {
   "cell_type": "code",
   "execution_count": 23,
   "id": "6647697a",
   "metadata": {},
   "outputs": [],
   "source": [
    "game_list = [0,1,2]"
   ]
  },
  {
   "cell_type": "code",
   "execution_count": 24,
   "id": "02ac5026",
   "metadata": {},
   "outputs": [],
   "source": [
    "def display_game(game_list):\n",
    "    print(\"Here is the current list: \")\n",
    "    print(game_list)"
   ]
  },
  {
   "cell_type": "code",
   "execution_count": 25,
   "id": "f8c6d091",
   "metadata": {},
   "outputs": [
    {
     "name": "stdout",
     "output_type": "stream",
     "text": [
      "Here is the current list: \n",
      "[0, 1, 2]\n"
     ]
    }
   ],
   "source": [
    "display_game(game_list)"
   ]
  },
  {
   "cell_type": "code",
   "execution_count": 26,
   "id": "12e69ae9",
   "metadata": {},
   "outputs": [],
   "source": [
    "def position_choice():\n",
    "    choice='wrong'\n",
    "    \n",
    "    while choice not in ['0','1','2']:\n",
    "        choice = input(\"Pick a position(0,1,2): \")\n",
    "        if choice not in ['0','1','2']:\n",
    "            print(\"Sorry. invalid choice!\")\n",
    "    return int(choice)"
   ]
  },
  {
   "cell_type": "code",
   "execution_count": 27,
   "id": "29782145",
   "metadata": {},
   "outputs": [
    {
     "name": "stdout",
     "output_type": "stream",
     "text": [
      "Pick a position(0,1,2): 1\n"
     ]
    },
    {
     "data": {
      "text/plain": [
       "1"
      ]
     },
     "execution_count": 27,
     "metadata": {},
     "output_type": "execute_result"
    }
   ],
   "source": [
    "position_choice()"
   ]
  },
  {
   "cell_type": "code",
   "execution_count": 28,
   "id": "2431919e",
   "metadata": {},
   "outputs": [],
   "source": [
    "def replacement_choice(game_list,position):\n",
    "    user_placement = input(\"Type a string to place at position: \")\n",
    "    game_list[position]=user_placement\n",
    "    return game_list"
   ]
  },
  {
   "cell_type": "code",
   "execution_count": 29,
   "id": "b622d138",
   "metadata": {},
   "outputs": [
    {
     "name": "stdout",
     "output_type": "stream",
     "text": [
      "Type a string to place at position: 1\n"
     ]
    },
    {
     "data": {
      "text/plain": [
       "[0, '1', 2]"
      ]
     },
     "execution_count": 29,
     "metadata": {},
     "output_type": "execute_result"
    }
   ],
   "source": [
    "replacement_choice(game_list,1)"
   ]
  },
  {
   "cell_type": "code",
   "execution_count": 30,
   "id": "59fef993",
   "metadata": {},
   "outputs": [],
   "source": [
    "def gameon_choice():\n",
    "    choice='wrong'\n",
    "    \n",
    "    while choice not in ['Y','N']:\n",
    "        choice = input(\"Keep playing?(Y or N) \")\n",
    "        if choice not in ['Y','N']:\n",
    "            print(\"Sorry. I don't understand, please choose Y or N\")\n",
    "    if choice == \"Y\":\n",
    "        return True\n",
    "    else:\n",
    "        return False"
   ]
  },
  {
   "cell_type": "code",
   "execution_count": 31,
   "id": "e134f881",
   "metadata": {},
   "outputs": [
    {
     "name": "stdout",
     "output_type": "stream",
     "text": [
      "Keep playing?(Y or N) 1\n",
      "Sorry. I don't understand, please choose Y or N\n",
      "Keep playing?(Y or N) y\n",
      "Sorry. I don't understand, please choose Y or N\n",
      "Keep playing?(Y or N) Y\n"
     ]
    },
    {
     "data": {
      "text/plain": [
       "True"
      ]
     },
     "execution_count": 31,
     "metadata": {},
     "output_type": "execute_result"
    }
   ],
   "source": [
    "gameon_choice()"
   ]
  },
  {
   "cell_type": "code",
   "execution_count": 32,
   "id": "e31e140f",
   "metadata": {},
   "outputs": [
    {
     "name": "stdout",
     "output_type": "stream",
     "text": [
      "Here is the current list: \n",
      "[0, 1, 2]\n",
      "Pick a position(0,1,2): 1\n",
      "Type a string to place at position: 123\n",
      "Here is the current list: \n",
      "[0, '123', 2]\n",
      "Keep playing?(Y or N) N\n"
     ]
    }
   ],
   "source": [
    "game_on = True\n",
    "game_list = [0,1,2]\n",
    "while game_on:\n",
    "    display_game(game_list)\n",
    "    position = position_choice()\n",
    "    game_list = replacement_choice(game_list, position)\n",
    "    display_game(game_list)\n",
    "    game_on = gameon_choice()"
   ]
  },
  {
   "cell_type": "code",
   "execution_count": 33,
   "id": "00449df7",
   "metadata": {},
   "outputs": [],
   "source": [
    "#MileStone Project"
   ]
  },
  {
   "cell_type": "code",
   "execution_count": 1,
   "id": "b1939fe8",
   "metadata": {},
   "outputs": [],
   "source": [
    "from IPython.display import clear_output\n",
    "import random\n",
    "\n",
    "def display_board(board):\n",
    "    \n",
    "    print(board[1]+'|'+board[2]+'|'+board[3])\n",
    "    print(board[4]+'|'+board[5]+'|'+board[6])\n",
    "    print(board[7]+'|'+board[8]+'|'+board[9])\n",
    "    \n",
    "def player_input():\n",
    "    \n",
    "    marker = ''\n",
    "    #Keep asking player 1 to choose X or O\n",
    "    while marker!='X' and marker!='O':\n",
    "        marker = input('Player 1, choose X or O: ').upper()\n",
    "    \n",
    "    player1=marker\n",
    "    if player1 == 'X':\n",
    "        player2 = 'O'\n",
    "    else:\n",
    "        player2 = 'X'\n",
    "    return(player1,player2)\n",
    "\n",
    "def place_marker(board, marker, position):\n",
    "    board[position] = marker\n",
    "    \n",
    "def win_check(board, mark):\n",
    "    return(\n",
    "        (board[1]==board[2]==board[3]==mark)or\n",
    "        (board[4]==mark and board[5]==mark and board[6]==mark) or\n",
    "        (board[7]==mark and board[8]==mark and board[9]==mark) or\n",
    "        (board[1]==mark and board[4]==mark and board[7]==mark) or\n",
    "        (board[2]==mark and board[5]==mark and board[8]==mark) or\n",
    "        (board[3]==mark and board[6]==mark and board[9]==mark) or\n",
    "        (board[1]==mark and board[5]==mark and board[9]==mark) or\n",
    "        (board[3]==mark and board[5]==mark and board[7]==mark)\n",
    "    )\n",
    "\n",
    "def choose_first():\n",
    "    flip = random.randint(0,1)\n",
    "    \n",
    "    if flip==0:\n",
    "        return 'Player 1'\n",
    "    else:\n",
    "        return 'Player 2'\n",
    "\n",
    "def space_check(board,position):\n",
    "    return board[position] == ' '\n",
    "\n",
    "def full_board_check(board):\n",
    "    for i in range(1,10):\n",
    "        if space_check(board,i):\n",
    "            return False\n",
    "    return True\n",
    "\n",
    "def player_choice(board):\n",
    "    position = 0\n",
    "    \n",
    "    while position not in [1,2,3,4,5,6,7,8,9] or not space_check(board,position):\n",
    "        position = int(input('Choose a position: (1-9)'))\n",
    "    return position\n",
    "\n",
    "def replay():\n",
    "    choice = input(\"Player again? Yes or No: \")\n",
    "    return choice==\"Yes\"\n",
    "\n"
   ]
  },
  {
   "cell_type": "code",
   "execution_count": 35,
   "id": "0e0e7a60",
   "metadata": {},
   "outputs": [
    {
     "name": "stdout",
     "output_type": "stream",
     "text": [
      "X|0|X\n",
      "0|X|0\n",
      "X|0|X\n"
     ]
    }
   ],
   "source": [
    "test_board = [' ','X','0','X','0','X','0','X','0','X']\n",
    "display_board(test_board)"
   ]
  },
  {
   "cell_type": "code",
   "execution_count": 36,
   "id": "a51e6efe",
   "metadata": {},
   "outputs": [
    {
     "name": "stdout",
     "output_type": "stream",
     "text": [
      "Player 1, choose X or O: X\n"
     ]
    }
   ],
   "source": [
    "player1_marker, player2_marker = player_input()"
   ]
  },
  {
   "cell_type": "code",
   "execution_count": 37,
   "id": "a4813aef",
   "metadata": {},
   "outputs": [
    {
     "name": "stdout",
     "output_type": "stream",
     "text": [
      "X|0|X\n",
      "0|X|0\n",
      "X|X|X\n"
     ]
    }
   ],
   "source": [
    "place_marker(test_board, 'X', 8)\n",
    "display_board(test_board)"
   ]
  },
  {
   "cell_type": "code",
   "execution_count": 38,
   "id": "243177c5",
   "metadata": {},
   "outputs": [
    {
     "data": {
      "text/plain": [
       "True"
      ]
     },
     "execution_count": 38,
     "metadata": {},
     "output_type": "execute_result"
    }
   ],
   "source": [
    "win_check(test_board, 'X')"
   ]
  },
  {
   "cell_type": "code",
   "execution_count": 39,
   "id": "a7e6b715",
   "metadata": {},
   "outputs": [
    {
     "data": {
      "text/plain": [
       "'Player 2'"
      ]
     },
     "execution_count": 39,
     "metadata": {},
     "output_type": "execute_result"
    }
   ],
   "source": [
    "choose_first()"
   ]
  },
  {
   "cell_type": "code",
   "execution_count": 3,
   "id": "2529b453",
   "metadata": {},
   "outputs": [
    {
     "name": "stdout",
     "output_type": "stream",
     "text": [
      "Welcome to Tic Tac Toe\n",
      "Player 1, choose X or O: X\n",
      "Player 1 Will go first\n",
      "Ready to play? Y or N?Y\n",
      " | | \n",
      " | | \n",
      " | | \n",
      "Choose a position: (1-9)1\n",
      "X| | \n",
      " | | \n",
      " | | \n",
      "Choose a position: (1-9)2\n",
      "X|O| \n",
      " | | \n",
      " | | \n",
      "Choose a position: (1-9)3\n",
      "X|O|X\n",
      " | | \n",
      " | | \n",
      "Choose a position: (1-9)1\n",
      "Choose a position: (1-9)4\n",
      "X|O|X\n",
      "O| | \n",
      " | | \n",
      "Choose a position: (1-9)5\n",
      "X|O|X\n",
      "O|X| \n",
      " | | \n",
      "Choose a position: (1-9)6\n",
      "X|O|X\n",
      "O|X|O\n",
      " | | \n",
      "Choose a position: (1-9)7\n",
      "X|O|X\n",
      "O|X|O\n",
      "X| | \n",
      "PLAYER 1 HAS WON!\n",
      "Player again? Yes or No: 8\n"
     ]
    }
   ],
   "source": [
    "#Loop to run the game\n",
    "print('Welcome to Tic Tac Toe')\n",
    "\n",
    "while True:\n",
    "    the_board = [' ']*10\n",
    "    player1_marker, player2_marker = player_input()\n",
    "    turn = choose_first()\n",
    "    print(turn +' Will go first')\n",
    "    play_game = input('Ready to play? Y or N?')\n",
    "    if play_game=='Y':\n",
    "        game_on=True\n",
    "    else:\n",
    "        game_on=False\n",
    "        \n",
    "    while game_on:\n",
    "        if turn=='Player 1':\n",
    "            display_board(the_board)\n",
    "            position = player_choice(the_board)\n",
    "            place_marker(the_board, player1_marker, position)\n",
    "            if win_check(the_board, player1_marker):\n",
    "                display_board(the_board)\n",
    "                print('PLAYER 1 HAS WON!')\n",
    "                game_on = False\n",
    "            else:\n",
    "                if full_board_check(the_board):\n",
    "                    display_board()\n",
    "                    print(\"TIE\")\n",
    "                else:\n",
    "                    turn = 'Player 2'\n",
    "        if turn=='Player 2':\n",
    "            display_board(the_board)\n",
    "            position = player_choice(the_board)\n",
    "            place_marker(the_board, player2_marker, position)\n",
    "            if win_check(the_board, player2_marker):\n",
    "                display_board(the_board)\n",
    "                print('PLAYER 2 HAS WON!')\n",
    "                game_on = False\n",
    "            else:\n",
    "                if full_board_check(the_board):\n",
    "                    display_board()\n",
    "                    print(\"TIE\")\n",
    "                else:\n",
    "                    turn = 'Player 1'\n",
    "            \n",
    "    \n",
    "    if not replay():\n",
    "        break"
   ]
  },
  {
   "cell_type": "code",
   "execution_count": null,
   "id": "f53a7d33",
   "metadata": {},
   "outputs": [],
   "source": []
  }
 ],
 "metadata": {
  "kernelspec": {
   "display_name": "Python 3",
   "language": "python",
   "name": "python3"
  },
  "language_info": {
   "codemirror_mode": {
    "name": "ipython",
    "version": 3
   },
   "file_extension": ".py",
   "mimetype": "text/x-python",
   "name": "python",
   "nbconvert_exporter": "python",
   "pygments_lexer": "ipython3",
   "version": "3.8.8"
  }
 },
 "nbformat": 4,
 "nbformat_minor": 5
}
