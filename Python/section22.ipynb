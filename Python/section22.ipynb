{
 "cells": [
  {
   "cell_type": "code",
   "execution_count": null,
   "id": "14325b2d",
   "metadata": {},
   "outputs": [],
   "source": [
    "#Lesson 152"
   ]
  },
  {
   "cell_type": "code",
   "execution_count": 1,
   "id": "4000c582",
   "metadata": {},
   "outputs": [
    {
     "data": {
      "text/plain": [
       "-211.08333333333348"
      ]
     },
     "execution_count": 1,
     "metadata": {},
     "output_type": "execute_result"
    }
   ],
   "source": [
    "(2000 - (10**2)/12*34)-1927.75"
   ]
  },
  {
   "cell_type": "code",
   "execution_count": 2,
   "id": "e4dbb0e8",
   "metadata": {},
   "outputs": [],
   "source": [
    "l = [3,2,1,4,6,5]"
   ]
  },
  {
   "cell_type": "code",
   "execution_count": 3,
   "id": "89f2d536",
   "metadata": {},
   "outputs": [
    {
     "data": {
      "text/plain": [
       "[1, 2, 3, 4, 5, 6]"
      ]
     },
     "execution_count": 3,
     "metadata": {},
     "output_type": "execute_result"
    }
   ],
   "source": [
    "sorted(l)"
   ]
  },
  {
   "cell_type": "code",
   "execution_count": null,
   "id": "11f5a7a2",
   "metadata": {},
   "outputs": [],
   "source": []
  }
 ],
 "metadata": {
  "kernelspec": {
   "display_name": "Python 3",
   "language": "python",
   "name": "python3"
  },
  "language_info": {
   "codemirror_mode": {
    "name": "ipython",
    "version": 3
   },
   "file_extension": ".py",
   "mimetype": "text/x-python",
   "name": "python",
   "nbconvert_exporter": "python",
   "pygments_lexer": "ipython3",
   "version": "3.8.8"
  }
 },
 "nbformat": 4,
 "nbformat_minor": 5
}
