{
 "cells": [
  {
   "cell_type": "code",
   "execution_count": 3,
   "id": "ca0a0de7",
   "metadata": {},
   "outputs": [],
   "source": [
    "#Lesson 69"
   ]
  },
  {
   "cell_type": "code",
   "execution_count": 2,
   "id": "ba39d473",
   "metadata": {},
   "outputs": [],
   "source": [
    "mylist=[1,2,3]"
   ]
  },
  {
   "cell_type": "code",
   "execution_count": 4,
   "id": "7421c99f",
   "metadata": {},
   "outputs": [],
   "source": [
    "class Sample():\n",
    "    pass"
   ]
  },
  {
   "cell_type": "code",
   "execution_count": 5,
   "id": "62270087",
   "metadata": {},
   "outputs": [],
   "source": [
    "my_sample = Sample()"
   ]
  },
  {
   "cell_type": "code",
   "execution_count": 6,
   "id": "47091089",
   "metadata": {},
   "outputs": [
    {
     "data": {
      "text/plain": [
       "__main__.Sample"
      ]
     },
     "execution_count": 6,
     "metadata": {},
     "output_type": "execute_result"
    }
   ],
   "source": [
    "type(my_sample)"
   ]
  },
  {
   "cell_type": "code",
   "execution_count": 44,
   "id": "c12fe6c5",
   "metadata": {},
   "outputs": [],
   "source": [
    "class Dog():\n",
    "    # CLASS OBJECT ATTRIBUTE\n",
    "    # SAME FOR ANY INSTANCE OF A CLASS\n",
    "    species = 'mammal'\n",
    "    \n",
    "    def __init__(self,breed,name,spots):\n",
    "        self.breed = breed\n",
    "        self.name = name\n",
    "        #Expect boolean True or False\n",
    "        self.spots = spots\n",
    "    \n",
    "    def bark(self,number):\n",
    "        print('WOOF! My name is {} and the number is {}'.format(self.name,number))"
   ]
  },
  {
   "cell_type": "code",
   "execution_count": 47,
   "id": "5f76aaa5",
   "metadata": {},
   "outputs": [],
   "source": [
    "my_dog = Dog(breed='Huskey',name='Sammy',spots=False)"
   ]
  },
  {
   "cell_type": "code",
   "execution_count": 17,
   "id": "fdf6edee",
   "metadata": {},
   "outputs": [
    {
     "data": {
      "text/plain": [
       "__main__.Dog"
      ]
     },
     "execution_count": 17,
     "metadata": {},
     "output_type": "execute_result"
    }
   ],
   "source": [
    "type(my_dog)"
   ]
  },
  {
   "cell_type": "code",
   "execution_count": 19,
   "id": "899a8b91",
   "metadata": {},
   "outputs": [
    {
     "data": {
      "text/plain": [
       "'Huskey'"
      ]
     },
     "execution_count": 19,
     "metadata": {},
     "output_type": "execute_result"
    }
   ],
   "source": [
    "my_dog.breed"
   ]
  },
  {
   "cell_type": "code",
   "execution_count": 20,
   "id": "3c60518d",
   "metadata": {},
   "outputs": [
    {
     "data": {
      "text/plain": [
       "False"
      ]
     },
     "execution_count": 20,
     "metadata": {},
     "output_type": "execute_result"
    }
   ],
   "source": [
    "my_dog.spots"
   ]
  },
  {
   "cell_type": "code",
   "execution_count": 22,
   "id": "e3ffff5e",
   "metadata": {},
   "outputs": [],
   "source": [
    "#Lesson 70"
   ]
  },
  {
   "cell_type": "code",
   "execution_count": 27,
   "id": "2eb3597e",
   "metadata": {},
   "outputs": [
    {
     "data": {
      "text/plain": [
       "'mammal'"
      ]
     },
     "execution_count": 27,
     "metadata": {},
     "output_type": "execute_result"
    }
   ],
   "source": [
    "my_dog.species"
   ]
  },
  {
   "cell_type": "code",
   "execution_count": 49,
   "id": "10130051",
   "metadata": {},
   "outputs": [
    {
     "name": "stdout",
     "output_type": "stream",
     "text": [
      "WOOF! My name is Sammy and the number is 7\n"
     ]
    }
   ],
   "source": [
    "my_dog.bark(7)"
   ]
  },
  {
   "cell_type": "code",
   "execution_count": 84,
   "id": "60bd5bef",
   "metadata": {},
   "outputs": [],
   "source": [
    "class Circle():\n",
    "    # CLASS OBJECT ATTRIBUTE\n",
    "    pi = 3.14\n",
    "    \n",
    "    def __init__(self,radius=1):\n",
    "        self.radius = radius\n",
    "        self.area = radius*radius*Circle.pi #OR self.pi\n",
    "    \n",
    "    # METHOD\n",
    "    def get_circumference(self):\n",
    "        return self.radius*self.pi*2"
   ]
  },
  {
   "cell_type": "code",
   "execution_count": 85,
   "id": "3646c4b2",
   "metadata": {},
   "outputs": [],
   "source": [
    "mycircle = Circle(25)"
   ]
  },
  {
   "cell_type": "code",
   "execution_count": 86,
   "id": "564b7626",
   "metadata": {},
   "outputs": [
    {
     "data": {
      "text/plain": [
       "25"
      ]
     },
     "execution_count": 86,
     "metadata": {},
     "output_type": "execute_result"
    }
   ],
   "source": [
    "mycircle.radius"
   ]
  },
  {
   "cell_type": "code",
   "execution_count": 87,
   "id": "48b5393e",
   "metadata": {},
   "outputs": [
    {
     "data": {
      "text/plain": [
       "157.0"
      ]
     },
     "execution_count": 87,
     "metadata": {},
     "output_type": "execute_result"
    }
   ],
   "source": [
    "mycircle.get_circumference()"
   ]
  },
  {
   "cell_type": "code",
   "execution_count": 88,
   "id": "dc9a81d8",
   "metadata": {},
   "outputs": [
    {
     "data": {
      "text/plain": [
       "1962.5"
      ]
     },
     "execution_count": 88,
     "metadata": {},
     "output_type": "execute_result"
    }
   ],
   "source": [
    "mycircle.area"
   ]
  },
  {
   "cell_type": "code",
   "execution_count": 89,
   "id": "ed0570bf",
   "metadata": {},
   "outputs": [],
   "source": [
    "#lesson 71"
   ]
  },
  {
   "cell_type": "code",
   "execution_count": 1,
   "id": "38ffe3af",
   "metadata": {},
   "outputs": [],
   "source": [
    "class Animal():\n",
    "    def __init__(self):\n",
    "        print('ANIMAL CREATED')\n",
    "    \n",
    "    def who_am_i(self):\n",
    "        print('I am an animal')\n",
    "        \n",
    "    def eat(self):\n",
    "        print('I am eating')"
   ]
  },
  {
   "cell_type": "code",
   "execution_count": 2,
   "id": "d795f415",
   "metadata": {},
   "outputs": [
    {
     "name": "stdout",
     "output_type": "stream",
     "text": [
      "ANIMAL CREATED\n"
     ]
    }
   ],
   "source": [
    "myanimal = Animal()"
   ]
  },
  {
   "cell_type": "code",
   "execution_count": 93,
   "id": "f9064536",
   "metadata": {},
   "outputs": [
    {
     "name": "stdout",
     "output_type": "stream",
     "text": [
      "I am an animal\n"
     ]
    }
   ],
   "source": [
    "myanimal.who_am_i()"
   ]
  },
  {
   "cell_type": "code",
   "execution_count": 95,
   "id": "894d854c",
   "metadata": {},
   "outputs": [
    {
     "name": "stdout",
     "output_type": "stream",
     "text": [
      "I am eating\n"
     ]
    }
   ],
   "source": [
    "myanimal.eat()"
   ]
  },
  {
   "cell_type": "code",
   "execution_count": 7,
   "id": "f9416f8a",
   "metadata": {},
   "outputs": [],
   "source": [
    "class Dog(Animal): # Derived class\n",
    "    def __init__(self):\n",
    "        Animal.__init__(self)\n",
    "        print('Dog Created')\n",
    "    def bark(self):\n",
    "        print('WOOF!')\n",
    "    def eat(self): # Overwrite\n",
    "        print('I am a dog eating')"
   ]
  },
  {
   "cell_type": "code",
   "execution_count": 10,
   "id": "9737a7fb",
   "metadata": {},
   "outputs": [
    {
     "name": "stdout",
     "output_type": "stream",
     "text": [
      "ANIMAL CREATED\n",
      "Dog Created\n"
     ]
    }
   ],
   "source": [
    "mydog = Dog()"
   ]
  },
  {
   "cell_type": "code",
   "execution_count": 11,
   "id": "ae7ba02e",
   "metadata": {},
   "outputs": [
    {
     "name": "stdout",
     "output_type": "stream",
     "text": [
      "I am an animal\n"
     ]
    }
   ],
   "source": [
    "mydog.who_am_i()"
   ]
  },
  {
   "cell_type": "code",
   "execution_count": 12,
   "id": "0e5c648e",
   "metadata": {},
   "outputs": [
    {
     "name": "stdout",
     "output_type": "stream",
     "text": [
      "I am a dog eating\n"
     ]
    }
   ],
   "source": [
    "mydog.eat()"
   ]
  },
  {
   "cell_type": "code",
   "execution_count": 18,
   "id": "e030f5de",
   "metadata": {},
   "outputs": [],
   "source": [
    "class Dog(Animal):\n",
    "    def __init__(self,name):\n",
    "        self.name = name\n",
    "    def speak(self):\n",
    "        return self.name + ' says woof!'"
   ]
  },
  {
   "cell_type": "code",
   "execution_count": 19,
   "id": "257badd3",
   "metadata": {},
   "outputs": [],
   "source": [
    "class Cat(Animal):\n",
    "    def __init__(self,name):\n",
    "        self.name = name\n",
    "    def speak(self):\n",
    "        return self.name + ' says meow!'"
   ]
  },
  {
   "cell_type": "code",
   "execution_count": 20,
   "id": "32f18518",
   "metadata": {},
   "outputs": [],
   "source": [
    "niko = Dog('Niko')\n",
    "felix = Cat('Felix')"
   ]
  },
  {
   "cell_type": "code",
   "execution_count": 21,
   "id": "789fdc4d",
   "metadata": {},
   "outputs": [
    {
     "name": "stdout",
     "output_type": "stream",
     "text": [
      "Niko says woof!\n"
     ]
    }
   ],
   "source": [
    "print(niko.speak())"
   ]
  },
  {
   "cell_type": "code",
   "execution_count": 22,
   "id": "a3e40665",
   "metadata": {},
   "outputs": [
    {
     "name": "stdout",
     "output_type": "stream",
     "text": [
      "Felix says meow!\n"
     ]
    }
   ],
   "source": [
    "print(felix.speak())"
   ]
  },
  {
   "cell_type": "code",
   "execution_count": 24,
   "id": "e7299ebd",
   "metadata": {},
   "outputs": [
    {
     "name": "stdout",
     "output_type": "stream",
     "text": [
      "<class '__main__.Dog'>\n",
      "Niko says woof!\n",
      "<class '__main__.Cat'>\n",
      "Felix says meow!\n"
     ]
    }
   ],
   "source": [
    "for pet in [niko,felix]:\n",
    "    print(type(pet))\n",
    "    print(pet.speak())"
   ]
  },
  {
   "cell_type": "code",
   "execution_count": 28,
   "id": "fb777eeb",
   "metadata": {},
   "outputs": [],
   "source": [
    "def pet_speak(pet):\n",
    "    print(pet.speak())"
   ]
  },
  {
   "cell_type": "code",
   "execution_count": 29,
   "id": "8f34b376",
   "metadata": {},
   "outputs": [
    {
     "name": "stdout",
     "output_type": "stream",
     "text": [
      "Niko says woof!\n"
     ]
    }
   ],
   "source": [
    "pet_speak(niko)"
   ]
  },
  {
   "cell_type": "code",
   "execution_count": 30,
   "id": "c8e9e406",
   "metadata": {},
   "outputs": [],
   "source": [
    "class Animal():\n",
    "    def __init__(self,name):\n",
    "        self.name = name\n",
    "    def speak(self):\n",
    "        raise NotImplementedError('Subclass must implement this abstract method')"
   ]
  },
  {
   "cell_type": "code",
   "execution_count": 33,
   "id": "aa1fa3c1",
   "metadata": {},
   "outputs": [],
   "source": [
    "class Dog(Animal):\n",
    "    def speak(self):\n",
    "        return self.name+' says woof!'"
   ]
  },
  {
   "cell_type": "code",
   "execution_count": 34,
   "id": "e4e23ee0",
   "metadata": {},
   "outputs": [],
   "source": [
    "class Cat(Animal):\n",
    "    def speak(self):\n",
    "        return self.name+' says meow!'"
   ]
  },
  {
   "cell_type": "code",
   "execution_count": 35,
   "id": "8efbb76f",
   "metadata": {},
   "outputs": [],
   "source": [
    "fido=Dog('Fido')"
   ]
  },
  {
   "cell_type": "code",
   "execution_count": 36,
   "id": "3167efe2",
   "metadata": {},
   "outputs": [],
   "source": [
    "iris=Cat('Iris')"
   ]
  },
  {
   "cell_type": "code",
   "execution_count": 37,
   "id": "c3d3ac26",
   "metadata": {},
   "outputs": [
    {
     "name": "stdout",
     "output_type": "stream",
     "text": [
      "Fido says woof!\n"
     ]
    }
   ],
   "source": [
    "print(fido.speak())"
   ]
  },
  {
   "cell_type": "code",
   "execution_count": null,
   "id": "1941784e",
   "metadata": {},
   "outputs": [],
   "source": [
    "#Lesson 72"
   ]
  },
  {
   "cell_type": "code",
   "execution_count": 53,
   "id": "92194923",
   "metadata": {},
   "outputs": [],
   "source": [
    "class Book():\n",
    "    def __init__(self,title,author,pages):\n",
    "        self.title=title\n",
    "        self.author=author\n",
    "        self.pages=pages\n",
    "    def __str__(self):\n",
    "        return f\"{self.title} by {self.author}\"\n",
    "    def __len__(self):\n",
    "        return self.pages\n",
    "    def __del__(self):\n",
    "        print(f\"{self.title} has been removed\")"
   ]
  },
  {
   "cell_type": "code",
   "execution_count": 54,
   "id": "d04a0f1b",
   "metadata": {},
   "outputs": [],
   "source": [
    "b = Book('Python Rocks','Jose',200)"
   ]
  },
  {
   "cell_type": "code",
   "execution_count": 55,
   "id": "4adb49af",
   "metadata": {},
   "outputs": [
    {
     "name": "stdout",
     "output_type": "stream",
     "text": [
      "Python Rocks by Jose\n"
     ]
    }
   ],
   "source": [
    "print(b)"
   ]
  },
  {
   "cell_type": "code",
   "execution_count": 56,
   "id": "4ca3b6a1",
   "metadata": {},
   "outputs": [
    {
     "data": {
      "text/plain": [
       "200"
      ]
     },
     "execution_count": 56,
     "metadata": {},
     "output_type": "execute_result"
    }
   ],
   "source": [
    "len(b)"
   ]
  },
  {
   "cell_type": "code",
   "execution_count": 57,
   "id": "94c346cb",
   "metadata": {},
   "outputs": [
    {
     "name": "stdout",
     "output_type": "stream",
     "text": [
      "Python Rocks has been removed\n"
     ]
    }
   ],
   "source": [
    "del(b)"
   ]
  },
  {
   "cell_type": "code",
   "execution_count": 58,
   "id": "a675b566",
   "metadata": {},
   "outputs": [],
   "source": [
    "#Lesson 74"
   ]
  },
  {
   "cell_type": "code",
   "execution_count": 60,
   "id": "2a95bdd2",
   "metadata": {},
   "outputs": [],
   "source": [
    "class Line:\n",
    "    def __init__(self,coor1,coor2):\n",
    "        self.coor1 = coor1\n",
    "        self.coor2 = coor2\n",
    "    def distance(self):\n",
    "        x1,y1 = self.coor1\n",
    "        x2,y2 = self.coor2\n",
    "        \n",
    "        return ((x2-x1)**2 + (y2-y1)**2)**0.5\n",
    "    def slope(self):\n",
    "        x1,y1 = self.coor1\n",
    "        x2,y2 = self.coor2\n",
    "        \n",
    "        return (y2-y1)/(x2-x1)"
   ]
  },
  {
   "cell_type": "code",
   "execution_count": 62,
   "id": "5b6c018d",
   "metadata": {},
   "outputs": [],
   "source": [
    "c1 = (3,2)\n",
    "c2 = (8,10)"
   ]
  },
  {
   "cell_type": "code",
   "execution_count": 63,
   "id": "2368146d",
   "metadata": {},
   "outputs": [],
   "source": [
    "myline = Line(c1,c2)"
   ]
  },
  {
   "cell_type": "code",
   "execution_count": 64,
   "id": "88ebb883",
   "metadata": {},
   "outputs": [
    {
     "data": {
      "text/plain": [
       "9.433981132056603"
      ]
     },
     "execution_count": 64,
     "metadata": {},
     "output_type": "execute_result"
    }
   ],
   "source": [
    "myline.distance()"
   ]
  },
  {
   "cell_type": "code",
   "execution_count": 65,
   "id": "5280fb35",
   "metadata": {},
   "outputs": [
    {
     "data": {
      "text/plain": [
       "1.6"
      ]
     },
     "execution_count": 65,
     "metadata": {},
     "output_type": "execute_result"
    }
   ],
   "source": [
    "myline.slope()"
   ]
  },
  {
   "cell_type": "code",
   "execution_count": 67,
   "id": "a88c48aa",
   "metadata": {},
   "outputs": [],
   "source": [
    "class Cylinder:\n",
    "    def __init__(self,height=1,radius=1):\n",
    "        self.height = height\n",
    "        self.radius = radius\n",
    "        \n",
    "    def volume(self):\n",
    "        return self.height * 3.14 * (self.radius)**2\n",
    "    \n",
    "    def surface_area(self):\n",
    "        top = 3.14 * (self.radius**2)\n",
    "        return (2*top) + (2*3.14*self.radius*self.height)"
   ]
  },
  {
   "cell_type": "code",
   "execution_count": 68,
   "id": "512102e5",
   "metadata": {},
   "outputs": [],
   "source": [
    "mycyl = Cylinder(2,3)"
   ]
  },
  {
   "cell_type": "code",
   "execution_count": 70,
   "id": "be74303b",
   "metadata": {},
   "outputs": [
    {
     "data": {
      "text/plain": [
       "56.52"
      ]
     },
     "execution_count": 70,
     "metadata": {},
     "output_type": "execute_result"
    }
   ],
   "source": [
    "mycyl.volume()"
   ]
  },
  {
   "cell_type": "code",
   "execution_count": 71,
   "id": "ce292ad8",
   "metadata": {},
   "outputs": [
    {
     "data": {
      "text/plain": [
       "94.2"
      ]
     },
     "execution_count": 71,
     "metadata": {},
     "output_type": "execute_result"
    }
   ],
   "source": [
    "mycyl.surface_area()"
   ]
  },
  {
   "cell_type": "code",
   "execution_count": 72,
   "id": "cef639e2",
   "metadata": {},
   "outputs": [],
   "source": [
    "#Lesson 76"
   ]
  },
  {
   "cell_type": "code",
   "execution_count": 98,
   "id": "cd61ba46",
   "metadata": {},
   "outputs": [],
   "source": [
    "class Account():\n",
    "    def __init__(self,owner,balance=0):\n",
    "        self.owner = owner\n",
    "        self.balance = balance\n",
    "    \n",
    "    def deposit(self,amount):\n",
    "        self.balance += amount\n",
    "        print(f'{amount} has been deposited on your account {self.owner}')\n",
    "    \n",
    "    def withdraw(self,amount):\n",
    "        if(self.balance<amount):\n",
    "            return \"Not enough funds\"\n",
    "        else:\n",
    "            self.balance -= amount\n",
    "            print(f'{amount} have been withdrawn from your account')\n",
    "    def __str__(self):\n",
    "        return f\"Owner: {self.owner} \\nBalance: {self.balance}\""
   ]
  },
  {
   "cell_type": "code",
   "execution_count": 99,
   "id": "9b72c93d",
   "metadata": {},
   "outputs": [],
   "source": [
    "jose = Account('Jose',100)"
   ]
  },
  {
   "cell_type": "code",
   "execution_count": 100,
   "id": "a57edc59",
   "metadata": {},
   "outputs": [
    {
     "name": "stdout",
     "output_type": "stream",
     "text": [
      "Owner: Jose \n",
      "Balance: 100\n"
     ]
    }
   ],
   "source": [
    "print(jose)"
   ]
  },
  {
   "cell_type": "code",
   "execution_count": 101,
   "id": "5d5338c3",
   "metadata": {},
   "outputs": [
    {
     "name": "stdout",
     "output_type": "stream",
     "text": [
      "100 has been deposited on your account Jose\n"
     ]
    }
   ],
   "source": [
    "jose.deposit(100)"
   ]
  },
  {
   "cell_type": "code",
   "execution_count": 102,
   "id": "6e68d791",
   "metadata": {},
   "outputs": [
    {
     "name": "stdout",
     "output_type": "stream",
     "text": [
      "200 have been withdrawn from your account\n"
     ]
    }
   ],
   "source": [
    "jose.withdraw(200)"
   ]
  },
  {
   "cell_type": "code",
   "execution_count": 103,
   "id": "f62427bd",
   "metadata": {},
   "outputs": [
    {
     "data": {
      "text/plain": [
       "'Not enough funds'"
      ]
     },
     "execution_count": 103,
     "metadata": {},
     "output_type": "execute_result"
    }
   ],
   "source": [
    "jose.withdraw(1)"
   ]
  },
  {
   "cell_type": "code",
   "execution_count": 104,
   "id": "45e9ff7a",
   "metadata": {},
   "outputs": [
    {
     "name": "stdout",
     "output_type": "stream",
     "text": [
      "Owner: Jose \n",
      "Balance: 0\n"
     ]
    }
   ],
   "source": [
    "print(jose)"
   ]
  },
  {
   "cell_type": "code",
   "execution_count": null,
   "id": "fdc6731a",
   "metadata": {},
   "outputs": [],
   "source": []
  }
 ],
 "metadata": {
  "kernelspec": {
   "display_name": "Python 3",
   "language": "python",
   "name": "python3"
  },
  "language_info": {
   "codemirror_mode": {
    "name": "ipython",
    "version": 3
   },
   "file_extension": ".py",
   "mimetype": "text/x-python",
   "name": "python",
   "nbconvert_exporter": "python",
   "pygments_lexer": "ipython3",
   "version": "3.8.8"
  }
 },
 "nbformat": 4,
 "nbformat_minor": 5
}
